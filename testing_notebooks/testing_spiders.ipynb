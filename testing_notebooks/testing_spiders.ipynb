{
 "cells": [
  {
   "cell_type": "markdown",
   "metadata": {},
   "source": [
    "get upcoming matchups from ufcstats"
   ]
  },
  {
   "cell_type": "code",
   "execution_count": null,
   "metadata": {},
   "outputs": [],
   "source": [
    "import scrapy\n",
    "import json\n",
    "from bs4 import BeautifulSoup\n",
    "import re\n",
    "import logging\n",
    "\n",
    "\n",
    "\n",
    "class BoutSpider(scrapy.Spider):\n",
    "    name = \"upcoming_bouts_spider\"\n",
    "    allowed_domains = [\"ufcstats.com\"]\n",
    "    # Set up logging\n",
    "    custom_settings = {\n",
    "        'LOG_FILE': 'upcoming_spider_log.txt',  # Specify the log file path\n",
    "        'LOG_LEVEL': 'DEBUG',  # Set the log level to DEBUG\n",
    "    }\n",
    "\n",
    "\n",
    "    def start_requests(self):\n",
    "        url = \"http://ufcstats.com/statistics/events/upcoming\"\n",
    "        yield scrapy.Request(url, callback=self.get_latest_event)\n",
    "\n",
    "    def get_upcoming_events(self, response):\n",
    "        upcoming_event_urls = response.css('tr.b-statistics__table-row a::attr(href)').getall()\n",
    "        for url in upcoming_event_urls:\n",
    "            yield scrapy.Request(url, callback=self.get_bout_links)\n",
    "\n",
    "    def get_bouts(self, response):\n",
    "        bouts = response.css('tr.b-fight-details__table-row').getall()\n",
    "        for bout in range(1, len(bouts) + 1):\n",
    "            event_title = response.css('span.b-content__title-highlight::text').get().strip()\n",
    "            date = response.xpath('string(//li[@class=\"b-list__box-list-item\"]/i[@class=\"b-list__box-item-title\"][contains(text(), \"Date:\")]/following-sibling::text()[1])').get().strip()\n",
    "            location = response.xpath('string(//li[@class=\"b-list__box-list-item\"]/i[@class=\"b-list__box-item-title\"][contains(text(), \"Location:\")]/following-sibling::text()[1])').get().strip()\n",
    "            fighter_a_name = response.css(f'tr.b-fight-details__table-row:nth-child({bout}) td.b-fight-details__table-col.l-page_align_left:nth-child(2) p.b-fight-details__table-text:nth-child(1) a.b-link::text').get().strip()\n",
    "            fighter_b_name = response.css(f'tr.b-fight-details__table-row:nth-child({bout}) td.b-fight-details__table-col.l-page_align_left:nth-child(2) p.b-fight-details__table-text:nth-child(2) a.b-link::text').get().strip()\n",
    "            # response.css('tr.b-fight-details__table-row:nth-child(1) td.b-fight-details__table-col.l-page_align_left:nth-child(2) p.b-fight-details__table-text:nth-child(2) a.b-link::text').get().strip()\n",
    "            weight_class = response.css(f'tr.b-fight-details__table-row:nth-child({bout}) td.b-fight-details__table-col:nth-child(7) p.b-fight-details__table-text::text').get().strip()\n",
    "            #response.css('tr.b-fight-details__table-row:nth-child(1) td.b-fight-details__table-col:nth-child(7) p.b-fight-details__table-text::text').get().strip()\n",
    "            \n",
    "            #if event_title does not contain 'Fight Night' and location does not contain 'Vegas':\n",
    "            if 'Fight Night' not in event_title and 'Vegas' not in location:\n",
    "                cage_size = 'big'\n",
    "            else:\n",
    "                cage_size = 'small'\n",
    "\n",
    "\n",
    "\n",
    "            yield {\n",
    "                'event_title': event_title,\n",
    "                'date': date,\n",
    "                'location': location,\n",
    "                'fighter_a_name': fighter_a_name,\n",
    "                'fighter_b_name': fighter_b_name,\n",
    "                'weight_class': weight_class,\n",
    "                'cage_size': cage_size,\n",
    "            }\n"
   ]
  }
 ],
 "metadata": {
  "language_info": {
   "name": "python"
  }
 },
 "nbformat": 4,
 "nbformat_minor": 2
}
